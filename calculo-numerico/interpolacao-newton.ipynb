{
 "cells": [
  {
   "cell_type": "code",
   "execution_count": 3,
   "id": "saving-glance",
   "metadata": {},
   "outputs": [],
   "source": [
    "def newton_interp(xi, yi, x):\n",
    "    \n",
    "    n = len(x)\n",
    "    \n",
    "    xi = np.array(xi)\n",
    "    yi = np.array(yi)\n",
    "    x = np.array(x)\n",
    "    \n",
    "    if n == 1:\n",
    "        \n",
    "        xi = xi.T\n",
    "        yi = yi.T\n",
    "        x = x.T\n",
    "        \n",
    "    \n",
    "    n = len(xi)\n",
    "    ni = len(x)\n",
    "    \n",
    "    N = np.ones((n, ni))\n",
    "    \n",
    "    D = np.zeros((n,n))\n",
    "    D[:, 0] = yi.T\n",
    "    \n",
    "    for j in np.arange(n-1):\n",
    "        for i in np.arange(n - j - 1):\n",
    "            \n",
    "            D[i, j+1] = (D[i+1, j] - D[i, j])/(xi[i+j+1] - xi[i])\n",
    "\n",
    "    for i in np.arange(1,n):\n",
    "        \n",
    "        N[i, :] = N[i-1,:]*(x -xi[i - 1])\n",
    "    \n",
    "    return D[0,:].dot(N)"
   ]
  },
  {
   "cell_type": "code",
   "execution_count": 4,
   "id": "national-kingston",
   "metadata": {},
   "outputs": [],
   "source": [
    "x = [-2, 0, 3, 5]\n",
    "y = [3, -2, 4, 2]"
   ]
  },
  {
   "cell_type": "code",
   "execution_count": 5,
   "id": "gorgeous-industry",
   "metadata": {},
   "outputs": [],
   "source": [
    "xl = np.arange(x[0]-1, x[3]+1, 0.1)\n",
    "yl = newton_interp(x, y, xl)"
   ]
  },
  {
   "cell_type": "code",
   "execution_count": 6,
   "id": "played-alabama",
   "metadata": {},
   "outputs": [
    {
     "data": {
      "text/plain": [
       "<matplotlib.legend.Legend at 0x1c84e470dc0>"
      ]
     },
     "execution_count": 6,
     "metadata": {},
     "output_type": "execute_result"
    },
    {
     "data": {
      "image/png": "[encoded data removed]",
      "text/plain": [
       "<Figure size 432x288 with 1 Axes>"
      ]
     },
     "metadata": {
      "needs_background": "light"
     },
     "output_type": "display_data"
    }
   ],
   "source": [
    "plt.title('Interpolação pleo método de Newton', fontsize = 16)\n",
    "\n",
    "plt.plot(x, y, 'o', label = 'Dados')\n",
    "plt.plot(xl, yl, label = 'Interpolação')\n",
    "\n",
    "plt.xlabel('x')\n",
    "plt.ylabel('y')\n",
    "\n",
    "plt.legend()"
   ]
  },
  {
   "cell_type": "markdown",
   "id": "cf9deff2-5d43-4c18-aa96-dd08f3306b62",
   "metadata": {},
   "source": [
    "## **Exercício - 1**"
   ]
  },
  {
   "cell_type": "code",
   "execution_count": 15,
   "id": "271062b6-35b5-47de-87e0-1b461f54abfd",
   "metadata": {},
   "outputs": [],
   "source": [
    "x = np.array([1, 1.1, 1.15])\n",
    "y = np.array([1, 1.048809, 1.072381])"
   ]
  },
  {
   "cell_type": "code",
   "execution_count": 22,
   "id": "4ca4d2c9-228e-4bb0-b787-c2d86cd3e319",
   "metadata": {},
   "outputs": [],
   "source": [
    "xi = [1.12]"
   ]
  },
  {
   "cell_type": "code",
   "execution_count": 23,
   "id": "3e30ff2f-a540-49c8-b6ef-626f3325457f",
   "metadata": {},
   "outputs": [],
   "source": [
    "yi = newton_interp(x, y, xi)"
   ]
  },
  {
   "cell_type": "code",
   "execution_count": 24,
   "id": "b09d12e7-5565-4d62-a897-154af405e896",
   "metadata": {},
   "outputs": [
    {
     "data": {
      "text/plain": [
       "1.0583044"
      ]
     },
     "execution_count": 24,
     "metadata": {},
     "output_type": "execute_result"
    }
   ],
   "source": [
    "yi[0]"
   ]
  },
  {
   "cell_type": "code",
   "execution_count": 25,
   "id": "5a9fad27-4618-4ff0-9c0e-b2ace3939af1",
   "metadata": {},
   "outputs": [
    {
     "data": {
      "text/plain": [
       "array([-3.87557416e-06])"
      ]
     },
     "execution_count": 25,
     "metadata": {},
     "output_type": "execute_result"
    }
   ],
   "source": [
    "np.sqrt(xi) - yi"
   ]
  },
  {
   "cell_type": "markdown",
   "id": "f4692d55-31e2-41cf-9015-24093346d1b2",
   "metadata": {},
   "source": [
    "## **Exercício - 1**"
   ]
  },
  {
   "cell_type": "code",
   "execution_count": 26,
   "id": "327bea76-16b2-4d1b-b432-52f259f912b7",
   "metadata": {},
   "outputs": [],
   "source": [
    "x = np.array([-2, -1, 1, 2])\n",
    "y = np.array([0, 6, 24, 60])"
   ]
  },
  {
   "cell_type": "code",
   "execution_count": 27,
   "id": "58c6d759-2ec1-4fbf-96b8-90be2e81d01e",
   "metadata": {},
   "outputs": [],
   "source": [
    "xi = [0.5]"
   ]
  },
  {
   "cell_type": "code",
   "execution_count": 28,
   "id": "07a1c1be-a9b6-4b32-b877-0ff095d86c37",
   "metadata": {},
   "outputs": [],
   "source": [
    "yi = newton_interp(x, y, xi)"
   ]
  },
  {
   "cell_type": "code",
   "execution_count": 29,
   "id": "5ed74545-b4c5-4421-b526-9e0b995858e6",
   "metadata": {},
   "outputs": [
    {
     "data": {
      "text/plain": [
       "15.0"
      ]
     },
     "execution_count": 29,
     "metadata": {},
     "output_type": "execute_result"
    }
   ],
   "source": [
    "yi[0]"
   ]
  },
  {
   "cell_type": "code",
   "execution_count": 25,
   "id": "7a9565c5-55e0-4eff-af9c-016de8bf547e",
   "metadata": {},
   "outputs": [
    {
     "data": {
      "text/plain": [
       "array([-3.87557416e-06])"
      ]
     },
     "execution_count": 25,
     "metadata": {},
     "output_type": "execute_result"
    }
   ],
   "source": [
    "np.sqrt(xi) - yi"
   ]
  },
  {
   "cell_type": "code",
   "execution_count": null,
   "id": "81d6ce02-758f-453b-b53f-7571f3d5d3b9",
   "metadata": {},
   "outputs": [],
   "source": []
  },
  {
   "cell_type": "code",
   "execution_count": 7,
   "id": "offshore-bhutan",
   "metadata": {},
   "outputs": [],
   "source": [
    "import numpy as np\n",
    "from numpy import linalg as al"
   ]
  },
  {
   "cell_type": "code",
   "execution_count": 2,
   "id": "basic-multiple",
   "metadata": {},
   "outputs": [],
   "source": [
    "import matplotlib.pyplot as plt"
   ]
  },
  {
   "cell_type": "code",
   "execution_count": null,
   "id": "composed-speaker",
   "metadata": {},
   "outputs": [],
   "source": []
  }
 ],
 "metadata": {
  "kernelspec": {
   "display_name": "Python 3",
   "language": "python",
   "name": "python3"
  },
  "language_info": {
   "codemirror_mode": {
    "name": "ipython",
    "version": 3
   },
   "file_extension": ".py",
   "mimetype": "text/x-python",
   "name": "python",
   "nbconvert_exporter": "python",
   "pygments_lexer": "ipython3",
   "version": "3.8.8"
  }
 },
 "nbformat": 4,
 "nbformat_minor": 5
}
