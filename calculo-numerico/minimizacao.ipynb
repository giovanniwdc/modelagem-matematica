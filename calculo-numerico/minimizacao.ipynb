{
 "cells": [
  {
   "cell_type": "code",
   "execution_count": 41,
   "id": "specified-chorus",
   "metadata": {},
   "outputs": [],
   "source": [
    "def bissecao(f, a, b, tol = 10**(-2)):\n",
    "    \n",
    "    x = (a+b)/2\n",
    "    \n",
    "    erro = np.Inf\n",
    "    \n",
    "    while erro > tol:\n",
    "        \n",
    "        if f(x) == 0:\n",
    "            return x\n",
    "        \n",
    "        elif f(a)*f(x) < 0:\n",
    "            b = x\n",
    "        \n",
    "        else:\n",
    "            a = x\n",
    "        \n",
    "        x0 = x\n",
    "        x = (a+b)/2\n",
    "        \n",
    "        erro = np.absolute(x - x0)\n",
    "\n",
    "    return x"
   ]
  },
  {
   "cell_type": "code",
   "execution_count": 32,
   "id": "separated-holocaust",
   "metadata": {},
   "outputs": [],
   "source": [
    "def newton(f, dfdx, x, tol, kmax):\n",
    "    \n",
    "    for i in np.arange(kmax):\n",
    "        \n",
    "        dx = f(x)/dfdx(x)\n",
    "        x -= dx\n",
    "        \n",
    "        if np.absolute(dx) < tol:\n",
    "            \n",
    "            return x\n",
    "        \n",
    "    return None"
   ]
  },
  {
   "cell_type": "code",
   "execution_count": 33,
   "id": "informational-chemistry",
   "metadata": {},
   "outputs": [],
   "source": [
    "def ponto_fixo(f, x0, tol, kmax):\n",
    "    \n",
    "    x = x0\n",
    "    \n",
    "    for i in np.arange(kmax):\n",
    "        \n",
    "        aux = x\n",
    "        x = np.sqrt(6 - x)\n",
    "        \n",
    "        if np.absolute(x - aux) < tol:\n",
    "            \n",
    "            return x\n",
    "        \n",
    "        \n",
    "    return None"
   ]
  },
  {
   "cell_type": "code",
   "execution_count": 34,
   "id": "monthly-regard",
   "metadata": {},
   "outputs": [],
   "source": [
    "def secante(f, x0, x1, tol, kmax):\n",
    "    \n",
    "    f0 = f(x0)\n",
    "    \n",
    "    for i in np.arange(kmax):\n",
    "        \n",
    "        f1 = f(x1)\n",
    "        \n",
    "        \n",
    "        ds = f1*(x1 - x0)/(f1 - f0)\n",
    "        \n",
    "        x0 = x1\n",
    "        x1 = x1 - ds\n",
    "        \n",
    "        if np.absolute(ds) < tol:\n",
    "            \n",
    "            return x1\n",
    "        \n",
    "        f0 = f1\n",
    "        \n",
    "    return None"
   ]
  },
  {
   "cell_type": "markdown",
   "id": "f499cff8-1de5-4f28-8484-ac7448c14793",
   "metadata": {},
   "source": [
    "### **Problema-1**"
   ]
  },
  {
   "cell_type": "code",
   "execution_count": 35,
   "id": "5707e726-ac0a-4801-ac7f-4109c48aeffc",
   "metadata": {},
   "outputs": [],
   "source": [
    "dddx = lambda x: (2*x**3+x-1)/(np.sqrt((x-1)**2+x**4))\n",
    "d2ddx2 = lambda x: x**2*(2*x**4+3*x**2-8*x+6)/(np.sqrt((x**4+x**2-2*x+1)**3))"
   ]
  },
  {
   "cell_type": "code",
   "execution_count": 36,
   "id": "516645e4-49de-480d-85d0-bb45d47a00c9",
   "metadata": {},
   "outputs": [
    {
     "data": {
      "text/plain": [
       "0.5897545160692876"
      ]
     },
     "execution_count": 36,
     "metadata": {},
     "output_type": "execute_result"
    }
   ],
   "source": [
    "newton(dddx, d2ddx2, 1, 10**(-4), 200)"
   ]
  },
  {
   "cell_type": "markdown",
   "id": "c276341c-2dfe-4bcb-8e06-becd6ae0c515",
   "metadata": {},
   "source": [
    "### **Problema-2**"
   ]
  },
  {
   "cell_type": "code",
   "execution_count": 37,
   "id": "d0937a01-195e-4f6f-affc-09c0cc25c916",
   "metadata": {},
   "outputs": [],
   "source": [
    "f = lambda x: np.exp(-x**2) - np.cos(x)"
   ]
  },
  {
   "cell_type": "code",
   "execution_count": 38,
   "id": "36f95bb3-ed43-4a40-9e9a-af919f64c391",
   "metadata": {},
   "outputs": [
    {
     "data": {
      "text/plain": [
       "1.4477964961470107"
      ]
     },
     "execution_count": 38,
     "metadata": {},
     "output_type": "execute_result"
    }
   ],
   "source": [
    "secante(f,1.5, 1.6, 10**(-2), 200)"
   ]
  },
  {
   "cell_type": "markdown",
   "id": "860b51b7-ffa9-4d6b-a389-e1c0ab0cafd8",
   "metadata": {},
   "source": [
    "### **Problema-3**"
   ]
  },
  {
   "cell_type": "code",
   "execution_count": 39,
   "id": "271b4479-e334-4c7b-b607-94559d2937ae",
   "metadata": {},
   "outputs": [],
   "source": [
    "f = lambda x: 2*np.cos(x) - np.exp(x)/2"
   ]
  },
  {
   "cell_type": "code",
   "execution_count": 42,
   "id": "existing-sigma",
   "metadata": {},
   "outputs": [
    {
     "data": {
      "text/plain": [
       "0.8835729338221293"
      ]
     },
     "execution_count": 42,
     "metadata": {},
     "output_type": "execute_result"
    }
   ],
   "source": [
    "bissecao(f, 0, 2*np.pi, 10**(-1))"
   ]
  },
  {
   "cell_type": "code",
   "execution_count": 2,
   "id": "south-gauge",
   "metadata": {},
   "outputs": [],
   "source": [
    "import numpy as np\n",
    "from numpy import linalg as al"
   ]
  }
 ],
 "metadata": {
  "kernelspec": {
   "display_name": "Python 3",
   "language": "python",
   "name": "python3"
  },
  "language_info": {
   "codemirror_mode": {
    "name": "ipython",
    "version": 3
   },
   "file_extension": ".py",
   "mimetype": "text/x-python",
   "name": "python",
   "nbconvert_exporter": "python",
   "pygments_lexer": "ipython3",
   "version": "3.8.8"
  }
 },
 "nbformat": 4,
 "nbformat_minor": 5
}
