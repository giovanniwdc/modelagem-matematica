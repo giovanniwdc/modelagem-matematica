{
 "cells": [
  {
   "cell_type": "code",
   "execution_count": 162,
   "id": "affected-cooler",
   "metadata": {
    "tags": []
   },
   "outputs": [],
   "source": [
    "def clgs(A):\n",
    "    \n",
    "    Al = np.copy(A)\n",
    "    m, n = Al.shape\n",
    "    \n",
    "    Q = np.zeros((m,n), dtype = float)\n",
    "    R = np.zeros((n,n), dtype = float)\n",
    "    \n",
    "    for j in np.arange(n):\n",
    "        \n",
    "        V = Al[:, j]\n",
    "        \n",
    "        for i in np.arange(j):\n",
    "            \n",
    "            R[i, j] = Q[:, i].T.dot(Al[:, j])\n",
    "            \n",
    "            V -= R[i, j]*Q[:, i]\n",
    "        \n",
    "        R[j, j] = np.linalg.norm(V)\n",
    "        Q[:, j] = V/(R[j, j])\n",
    "    \n",
    "    return Q, R"
   ]
  },
  {
   "cell_type": "code",
   "execution_count": 197,
   "id": "aggressive-florida",
   "metadata": {},
   "outputs": [],
   "source": [
    "def mgs(A):\n",
    "    \n",
    "    V = np.copy(A)\n",
    "    m, n = V.shape\n",
    "    \n",
    "    Q = np.zeros((m,n), dtype = float)\n",
    "    R = np.zeros((n,n), dtype = float)\n",
    "    \n",
    "    for i in np.arange(n):\n",
    "        \n",
    "        R[i, i] = np.linalg.norm(V[:, i])\n",
    "        Q[:, i] = V[:, i]/R[i, i]\n",
    "        \n",
    "        for j in np.arange(i+1, n):\n",
    "            \n",
    "            R[i, j] = Q[:, i].T.dot(V[:, j])\n",
    "            V[:, j] = V[:, j] -  R[i, j]*Q[:, i]\n",
    "\n",
    "    return Q, R"
   ]
  },
  {
   "cell_type": "code",
   "execution_count": 207,
   "id": "fallen-terminal",
   "metadata": {},
   "outputs": [],
   "source": [
    "def francis(A, tol):\n",
    "    \n",
    "    Al = np.copy(A)\n",
    "    n, _ = Al.shape\n",
    "    \n",
    "    V = np.identity(n)\n",
    "    \n",
    "    erro = np.Inf\n",
    "    \n",
    "    while erro > tol:\n",
    "        \n",
    "        Q, R = mgs(Al)\n",
    "        \n",
    "        Al = R.dot(Q)\n",
    "        V = V.dot(Q)\n",
    "        \n",
    "        erro = np.absolute(np.tril(Al, -1)).max()\n",
    "\n",
    "    D = np.diag(Al)\n",
    "    \n",
    "    return V, D"
   ]
  },
  {
   "cell_type": "code",
   "execution_count": 212,
   "id": "ordinary-witness",
   "metadata": {},
   "outputs": [],
   "source": [
    "C = np.array([[4, 4, 3],\n",
    "              [4, 8, 1],\n",
    "              [3, 1, -1]], dtype = float)"
   ]
  },
  {
   "cell_type": "code",
   "execution_count": 213,
   "id": "veterinary-triangle",
   "metadata": {},
   "outputs": [
    {
     "data": {
      "text/plain": [
       "(array([[ 0.55145473, -0.69144217,  0.46669626],\n",
       "        [ 0.80848773,  0.58083071, -0.09478014],\n",
       "        [ 0.20553654, -0.42958516, -0.87932436]]),\n",
       " array([10.98255049,  2.4970207 , -2.47957119]))"
      ]
     },
     "execution_count": 213,
     "metadata": {},
     "output_type": "execute_result"
    }
   ],
   "source": [
    "francis(C, 10**(-2))"
   ]
  },
  {
   "cell_type": "code",
   "execution_count": null,
   "id": "supreme-scenario",
   "metadata": {},
   "outputs": [],
   "source": []
  },
  {
   "cell_type": "code",
   "execution_count": 44,
   "id": "noticed-niger",
   "metadata": {},
   "outputs": [],
   "source": [
    "import numpy as np"
   ]
  },
  {
   "cell_type": "code",
   "execution_count": null,
   "id": "timely-investment",
   "metadata": {},
   "outputs": [],
   "source": []
  }
 ],
 "metadata": {
  "kernelspec": {
   "display_name": "Python 3",
   "language": "python",
   "name": "python3"
  },
  "language_info": {
   "codemirror_mode": {
    "name": "ipython",
    "version": 3
   },
   "file_extension": ".py",
   "mimetype": "text/x-python",
   "name": "python",
   "nbconvert_exporter": "python",
   "pygments_lexer": "ipython3",
   "version": "3.8.8"
  }
 },
 "nbformat": 4,
 "nbformat_minor": 5
}
