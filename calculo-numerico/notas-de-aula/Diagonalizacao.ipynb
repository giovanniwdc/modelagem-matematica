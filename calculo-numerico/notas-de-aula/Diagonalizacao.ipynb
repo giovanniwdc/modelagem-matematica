{
 "cells": [
  {
   "cell_type": "code",
   "execution_count": 122,
   "id": "phantom-silly",
   "metadata": {},
   "outputs": [],
   "source": [
    "def sessenfeld_criterion(A):\n",
    "    \n",
    "    n = A.shape[0]\n",
    "    \n",
    "    beta = np.zeros(n, dtype = float)\n",
    "    beta[0] = np.absolute(A[0, 1:]).sum()/np.absolute(A[0,0])\n",
    "\n",
    "    if beta[0] >= 1:\n",
    "        return False \n",
    "    \n",
    "    for i in np.arange(1, n):\n",
    "        \n",
    "        beta[i] = ((np.absolute(A[i, 0:i])*beta[0:i]).sum() + np.absolute(A[i, i+1:n+1]).sum())/np.absolute(A[i,i])\n",
    "        \n",
    "        if beta[i] >= 1:\n",
    "            return False\n",
    "\n",
    "    return beta.min()"
   ]
  },
  {
   "cell_type": "code",
   "execution_count": 181,
   "id": "peripheral-password",
   "metadata": {},
   "outputs": [],
   "source": [
    "def gauss_seidel( A, b, x0, tol, kmax = 10000, description = False):\n",
    "    \n",
    "    L = np.tril(A)\n",
    "    R = np.triu(A, 1)\n",
    "    \n",
    "    C = - op.inversa(L).dot(R)\n",
    "    g = op.inversa(L).dot(b)\n",
    "    \n",
    "    k = 0\n",
    "    \n",
    "    x = x0\n",
    "    \n",
    "    while la.norm(b - A.dot(x)) > tol and  k < kmax:\n",
    "        \n",
    "        k += 1\n",
    "        \n",
    "        x = C.dot(x) + g\n",
    "    \n",
    "    if description:\n",
    "        \n",
    "        beta = sessenfeld_criterion(A)\n",
    "        \n",
    "        print(f'The Left matrix: \\n\\n{L} \\n\\nThe Right matrix: \\n\\n{R}\\n\\n')\n",
    "        \n",
    "        print(f'The C matrix: \\n\\n{C} \\n\\nThe g vector: \\n\\n{g}\\n\\n')\n",
    "\n",
    "        print(f'Sessenfeld Criterion Beta: {beta} \\nNumber of iterations: {k} \\nError: {la.norm(b - A.dot(x))}')\n",
    "        \n",
    "    return x"
   ]
  },
  {
   "cell_type": "markdown",
   "id": "mental-gossip",
   "metadata": {},
   "source": [
    "## **Questão 1**"
   ]
  },
  {
   "cell_type": "code",
   "execution_count": 174,
   "id": "accepted-knowing",
   "metadata": {},
   "outputs": [],
   "source": [
    "A1 = np.array([\n",
    "    [-4, 2, 1],\n",
    "    [-1, 5, 2],\n",
    "    [-1, -3, 6],\n",
    "],dtype = float)\n",
    "\n",
    "b1 = np.array([2, -4, 5], dtype = float)"
   ]
  },
  {
   "cell_type": "code",
   "execution_count": 175,
   "id": "organized-housing",
   "metadata": {},
   "outputs": [
    {
     "data": {
      "text/plain": [
       "array([[-4.,  2.,  1.],\n",
       "       [-1.,  5.,  2.],\n",
       "       [-1., -3.,  6.]])"
      ]
     },
     "execution_count": 175,
     "metadata": {},
     "output_type": "execute_result"
    }
   ],
   "source": [
    "A1"
   ]
  },
  {
   "cell_type": "code",
   "execution_count": 178,
   "id": "southwest-error",
   "metadata": {},
   "outputs": [],
   "source": [
    "x01 = np.array([0, 0, 0])"
   ]
  },
  {
   "cell_type": "code",
   "execution_count": 179,
   "id": "reflected-street",
   "metadata": {},
   "outputs": [
    {
     "name": "stdout",
     "output_type": "stream",
     "text": [
      "The Left matrix: \n",
      "\n",
      "[[-4.  0.  0.]\n",
      " [-1.  5.  0.]\n",
      " [-1. -3.  6.]] \n",
      "\n",
      "The Right matrix: \n",
      "\n",
      "[[0. 2. 1.]\n",
      " [0. 0. 2.]\n",
      " [0. 0. 0.]]\n",
      "\n",
      "\n",
      "The C matrix: \n",
      "\n",
      "[[-0.          0.5         0.25      ]\n",
      " [-0.          0.1        -0.35      ]\n",
      " [-0.          0.13333333 -0.13333333]] \n",
      "\n",
      "The G matrix: \n",
      "\n",
      "[-0.5 -0.9  0.3]\n",
      "\n",
      "\n",
      "Sessenfeld Criterion Beta: 0.4000000000000001 \n",
      "Number of iterations: 10 \n",
      "Error: 4.3151183144609864e-07\n"
     ]
    }
   ],
   "source": [
    "x1 = gauss_seidel(A1, b1, x01,10**(-6), description = True)"
   ]
  },
  {
   "cell_type": "code",
   "execution_count": 183,
   "id": "signal-rapid",
   "metadata": {},
   "outputs": [
    {
     "name": "stdout",
     "output_type": "stream",
     "text": [
      "Result x = [-0.99218748 -1.05468756  0.14062498]\n"
     ]
    }
   ],
   "source": [
    "print(f'Result x = {x1}')"
   ]
  },
  {
   "cell_type": "markdown",
   "id": "mobile-berlin",
   "metadata": {},
   "source": [
    "## **Questão 2**"
   ]
  },
  {
   "cell_type": "code",
   "execution_count": 184,
   "id": "phantom-romania",
   "metadata": {},
   "outputs": [],
   "source": [
    "A2 = np.array([\n",
    "    [5, -1, 0, 1],\n",
    "    [0, 4, 3, 1],\n",
    "    [1, 4, 5, 0],\n",
    "    [0, 1, 3, 7],\n",
    "],dtype = float)\n",
    "\n",
    "b2 = np.array([4, 3, 2, 1], dtype = float)"
   ]
  },
  {
   "cell_type": "code",
   "execution_count": 185,
   "id": "musical-optimum",
   "metadata": {},
   "outputs": [
    {
     "data": {
      "text/plain": [
       "array([[ 5., -1.,  0.,  1.],\n",
       "       [ 0.,  4.,  3.,  1.],\n",
       "       [ 1.,  4.,  5.,  0.],\n",
       "       [ 0.,  1.,  3.,  7.]])"
      ]
     },
     "execution_count": 185,
     "metadata": {},
     "output_type": "execute_result"
    }
   ],
   "source": [
    "A2"
   ]
  },
  {
   "cell_type": "code",
   "execution_count": 188,
   "id": "loving-portrait",
   "metadata": {},
   "outputs": [],
   "source": [
    "x02 = np.array([0, 0, 0, 0])"
   ]
  },
  {
   "cell_type": "code",
   "execution_count": 189,
   "id": "legendary-stopping",
   "metadata": {},
   "outputs": [
    {
     "name": "stdout",
     "output_type": "stream",
     "text": [
      "The Left matrix: \n",
      "\n",
      "[[5. 0. 0. 0.]\n",
      " [0. 4. 0. 0.]\n",
      " [1. 4. 5. 0.]\n",
      " [0. 1. 3. 7.]] \n",
      "\n",
      "The Right matrix: \n",
      "\n",
      "[[ 0. -1.  0.  1.]\n",
      " [ 0.  0.  3.  1.]\n",
      " [ 0.  0.  0.  0.]\n",
      " [ 0.  0.  0.  0.]]\n",
      "\n",
      "\n",
      "The C matrix: \n",
      "\n",
      "[[-0.          0.2        -0.         -0.2       ]\n",
      " [-0.         -0.         -0.75       -0.25      ]\n",
      " [-0.         -0.04        0.6         0.24      ]\n",
      " [-0.          0.01714286 -0.15       -0.06714286]] \n",
      "\n",
      "The g vector: \n",
      "\n",
      "[ 0.8   0.75 -0.36  0.19]\n",
      "\n",
      "\n",
      "Sessenfeld Criterion Beta: False \n",
      "Number of iterations: 14 \n",
      "Error: 0.0009076505893849079\n"
     ]
    }
   ],
   "source": [
    "x2 = gauss_seidel(A2, b2, x02,10**(-3), description = True)"
   ]
  },
  {
   "cell_type": "code",
   "execution_count": 191,
   "id": "unnecessary-decade",
   "metadata": {},
   "outputs": [
    {
     "name": "stdout",
     "output_type": "stream",
     "text": [
      "Result x = [ 0.99659424  1.30013575 -0.83942745  0.31687808]\n"
     ]
    }
   ],
   "source": [
    "print(f'Result x = {x2}')"
   ]
  },
  {
   "cell_type": "code",
   "execution_count": 2,
   "id": "recorded-tragedy",
   "metadata": {},
   "outputs": [],
   "source": [
    "import numpy as np"
   ]
  },
  {
   "cell_type": "code",
   "execution_count": 3,
   "id": "literary-marriage",
   "metadata": {},
   "outputs": [],
   "source": [
    "import calc_num.operations as op"
   ]
  },
  {
   "cell_type": "code",
   "execution_count": 4,
   "id": "greek-valuation",
   "metadata": {},
   "outputs": [],
   "source": [
    "from numpy import linalg as la"
   ]
  }
 ],
 "metadata": {
  "kernelspec": {
   "display_name": "Python 3",
   "language": "python",
   "name": "python3"
  },
  "language_info": {
   "codemirror_mode": {
    "name": "ipython",
    "version": 3
   },
   "file_extension": ".py",
   "mimetype": "text/x-python",
   "name": "python",
   "nbconvert_exporter": "python",
   "pygments_lexer": "ipython3",
   "version": "3.8.5"
  }
 },
 "nbformat": 4,
 "nbformat_minor": 5
}
