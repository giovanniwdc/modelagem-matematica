{
 "cells": [
  {
   "cell_type": "code",
   "execution_count": 36,
   "id": "unlimited-creation",
   "metadata": {},
   "outputs": [],
   "source": [
    "def eliminacao_gauss(A, b):\n",
    "    \n",
    "    n = A.shape[0]\n",
    "    \n",
    "    U = np.copy(A)\n",
    "    L = np.identity(n)\n",
    "    \n",
    "    bl = np.copy(b)\n",
    "        \n",
    "    for i in range(n - 1):\n",
    "        for j in range(i+1, n):\n",
    "            \n",
    "            m = -U[j][i]/U[i][i]\n",
    "            \n",
    "            U[j] += m*U[i]\n",
    "            \n",
    "            bl[j] = m*bl[i]\n",
    "            \n",
    "            L[j][i] = -m\n",
    "    \n",
    "    return U, bl, L"
   ]
  },
  {
   "cell_type": "code",
   "execution_count": 354,
   "id": "opposed-cabinet",
   "metadata": {},
   "outputs": [],
   "source": [
    "def eliminacao_gauss_pivot(A, b):\n",
    "    \n",
    "    n = A.shape[0]\n",
    "    \n",
    "    U = np.copy(A)\n",
    "    L = np.identity(n)\n",
    "    P = np.identity(n)\n",
    "    \n",
    "    bl = np.copy(b)\n",
    "    \n",
    "    npivot = 0\n",
    "    \n",
    "    for i in range(n - 1):\n",
    "        \n",
    "        pivot = np.argmax(np.absolute(U[i:n+1, i]))\n",
    "        pivot += i  \n",
    "        \n",
    "        if pivot != i:\n",
    "            \n",
    "            U[[i, pivot]] = U[[pivot, i]]\n",
    "            L[[i, pivot], :i] = L[[pivot, i], :i]\n",
    "            P[[i, pivot]] = P[[pivot, i]]\n",
    "            \n",
    "            bl[[i, pivot]] = bl[[pivot, i]] \n",
    "                \n",
    "            npivot =+ 1\n",
    "            \n",
    "        for j in range(i+1, n):\n",
    "            \n",
    "            m = -U[j][i]/U[i][i]\n",
    "            \n",
    "            U[j] += m*U[i]\n",
    "            \n",
    "            bl[j] += m*bl[i]\n",
    "            \n",
    "            L[j][i] = -m\n",
    "    \n",
    "    return U, bl, L, P"
   ]
  },
  {
   "cell_type": "code",
   "execution_count": 363,
   "id": "sealed-deposit",
   "metadata": {},
   "outputs": [],
   "source": [
    "A = np.array([[0, 4, 6], \n",
    "              [1, -3, -1],\n",
    "              [2, 1, 1]], dtype = float)\n",
    "\n",
    "b = np.array([8, 8, 7], dtype = float)"
   ]
  },
  {
   "cell_type": "code",
   "execution_count": 364,
   "id": "classified-feeding",
   "metadata": {},
   "outputs": [
    {
     "data": {
      "text/plain": [
       "array([[ 0.,  4.,  6.],\n",
       "       [ 1., -3., -1.],\n",
       "       [ 2.,  1.,  1.]])"
      ]
     },
     "execution_count": 364,
     "metadata": {},
     "output_type": "execute_result"
    }
   ],
   "source": [
    "A"
   ]
  },
  {
   "cell_type": "code",
   "execution_count": 369,
   "id": "cardiovascular-pathology",
   "metadata": {},
   "outputs": [],
   "source": [
    "U, bl, L, P = eliminacao_gauss_pivot(A, b)"
   ]
  },
  {
   "cell_type": "code",
   "execution_count": 370,
   "id": "compressed-adolescent",
   "metadata": {},
   "outputs": [
    {
     "data": {
      "text/plain": [
       "array([[2.  , 1.  , 1.  ],\n",
       "       [0.  , 4.  , 6.  ],\n",
       "       [0.  , 0.  , 3.75]])"
      ]
     },
     "execution_count": 370,
     "metadata": {},
     "output_type": "execute_result"
    }
   ],
   "source": [
    "U"
   ]
  },
  {
   "cell_type": "code",
   "execution_count": 371,
   "id": "living-bahrain",
   "metadata": {},
   "outputs": [
    {
     "data": {
      "text/plain": [
       "array([[ 1.   ,  0.   ,  0.   ],\n",
       "       [ 0.   ,  1.   ,  0.   ],\n",
       "       [ 0.5  , -0.875,  1.   ]])"
      ]
     },
     "execution_count": 371,
     "metadata": {},
     "output_type": "execute_result"
    }
   ],
   "source": [
    "L"
   ]
  },
  {
   "cell_type": "code",
   "execution_count": 372,
   "id": "plastic-control",
   "metadata": {},
   "outputs": [
    {
     "data": {
      "text/plain": [
       "array([[ 2.,  1.,  1.],\n",
       "       [ 0.,  4.,  6.],\n",
       "       [ 1., -3., -1.]])"
      ]
     },
     "execution_count": 372,
     "metadata": {},
     "output_type": "execute_result"
    }
   ],
   "source": [
    "L.dot(U)"
   ]
  },
  {
   "cell_type": "code",
   "execution_count": 373,
   "id": "prime-beads",
   "metadata": {},
   "outputs": [
    {
     "data": {
      "text/plain": [
       "array([[ 2.,  1.,  1.],\n",
       "       [ 0.,  4.,  6.],\n",
       "       [ 1., -3., -1.]])"
      ]
     },
     "execution_count": 373,
     "metadata": {},
     "output_type": "execute_result"
    }
   ],
   "source": [
    "P.dot(A)"
   ]
  },
  {
   "cell_type": "code",
   "execution_count": 374,
   "id": "experienced-completion",
   "metadata": {},
   "outputs": [
    {
     "data": {
      "text/plain": [
       "array([[0., 0., 1.],\n",
       "       [1., 0., 0.],\n",
       "       [0., 1., 0.]])"
      ]
     },
     "execution_count": 374,
     "metadata": {},
     "output_type": "execute_result"
    }
   ],
   "source": [
    "P"
   ]
  },
  {
   "cell_type": "code",
   "execution_count": 362,
   "id": "personalized-western",
   "metadata": {},
   "outputs": [
    {
     "data": {
      "text/plain": [
       "array([7. , 8. , 7.5])"
      ]
     },
     "execution_count": 362,
     "metadata": {},
     "output_type": "execute_result"
    }
   ],
   "source": [
    "bl"
   ]
  },
  {
   "cell_type": "code",
   "execution_count": 127,
   "id": "protecting-lobby",
   "metadata": {},
   "outputs": [
    {
     "name": "stdout",
     "output_type": "stream",
     "text": [
      "-0.09999990000009601 1.9999976000028804e-07\n"
     ]
    }
   ],
   "source": [
    "print((bl[0]-bl[1]/U[1][1])/U[1][1], bl[1]/U[1][1] )"
   ]
  },
  {
   "cell_type": "code",
   "execution_count": 53,
   "id": "naked-attitude",
   "metadata": {},
   "outputs": [
    {
     "data": {
      "text/plain": [
       "array([[ 1.e-05,  1.e+01],\n",
       "       [ 5.e+00, -6.e+00]])"
      ]
     },
     "execution_count": 53,
     "metadata": {},
     "output_type": "execute_result"
    }
   ],
   "source": [
    "L.dot(U)"
   ]
  },
  {
   "cell_type": "code",
   "execution_count": 1,
   "id": "proved-testing",
   "metadata": {},
   "outputs": [],
   "source": [
    "import numpy as np"
   ]
  }
 ],
 "metadata": {
  "kernelspec": {
   "display_name": "Python 3",
   "language": "python",
   "name": "python3"
  },
  "language_info": {
   "codemirror_mode": {
    "name": "ipython",
    "version": 3
   },
   "file_extension": ".py",
   "mimetype": "text/x-python",
   "name": "python",
   "nbconvert_exporter": "python",
   "pygments_lexer": "ipython3",
   "version": "3.8.5"
  }
 },
 "nbformat": 4,
 "nbformat_minor": 5
}
