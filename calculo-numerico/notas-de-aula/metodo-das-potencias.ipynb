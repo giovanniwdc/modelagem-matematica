{
 "cells": [
  {
   "cell_type": "code",
   "execution_count": 5,
   "id": "satellite-rates",
   "metadata": {},
   "outputs": [],
   "source": [
    "def potencias(A, y, tol = 10**(-100)):\n",
    "    \n",
    "    Al = np.copy(A)\n",
    "    n, _ = Al.shape\n",
    "    \n",
    "    k = 0\n",
    "    kmax = 1000\n",
    "    \n",
    "    erro = np.Inf\n",
    "    \n",
    "    y0 = np.copy(y)\n",
    "    y0[0] = 1\n",
    "    \n",
    "    while erro > tol and k < kmax:\n",
    "        \n",
    "        x = Al.dot(y0)\n",
    "        y = x/linalg.norm(x)\n",
    "        \n",
    "        erro = np.absolute(np.absolute(y0.T.dot(y)) - 1)\n",
    "        \n",
    "        y0 = y\n",
    "        \n",
    "        k+= 1\n",
    "        \n",
    "    lamb = y.T.dot(A.dot(y))\n",
    "    \n",
    "    return lamb, y, k"
   ]
  },
  {
   "cell_type": "code",
   "execution_count": 3,
   "id": "bound-claim",
   "metadata": {},
   "outputs": [],
   "source": [
    "def potencias_markov(A, tol = 10**(-100)):\n",
    "    \n",
    "    Al = np.copy(A)\n",
    "    n, _ = Al.shape\n",
    "    \n",
    "    k = 0\n",
    "    kmax = 10\n",
    "    \n",
    "    erro = np.Inf\n",
    "    \n",
    "    y0 = np.ones((n, 1))/n\n",
    "\n",
    "    while erro > tol and k < kmax:\n",
    "        \n",
    "        y = Al.dot(y0)\n",
    "        \n",
    "        erro = np.absolute(y.T.dot(Al.dot(y)) - 1)\n",
    "        print(erro)\n",
    "        y0 = y\n",
    "        \n",
    "        k+= 1\n",
    "    \n",
    "    return y, k"
   ]
  },
  {
   "cell_type": "code",
   "execution_count": 10,
   "id": "talented-uruguay",
   "metadata": {},
   "outputs": [],
   "source": [
    "A = np.array([\n",
    "    [3, 0, 1],\n",
    "    [2, 2, 2],\n",
    "    [4, 2, 5]\n",
    "], dtype = float)\n",
    "\n",
    "y0 = np.array([1, 0, 0], dtype = float)"
   ]
  },
  {
   "cell_type": "code",
   "execution_count": 11,
   "id": "colored-fluid",
   "metadata": {},
   "outputs": [
    {
     "data": {
      "text/plain": [
       "(7.087207169435565, array([0.2428151 , 0.43382965, 0.8676593 ]), 3)"
      ]
     },
     "execution_count": 11,
     "metadata": {},
     "output_type": "execute_result"
    }
   ],
   "source": [
    "potencias(A, y0, 10**(-2))"
   ]
  },
  {
   "cell_type": "code",
   "execution_count": 9,
   "id": "moved-nylon",
   "metadata": {},
   "outputs": [],
   "source": [
    "B = np.array([\n",
    "    [-2, -1, 0],\n",
    "    [-1, 2, -1],\n",
    "    [0, -1, 2]\n",
    "], dtype = float)\n",
    "\n",
    "y0 = np.array([1, 0, 0], dtype = float)"
   ]
  },
  {
   "cell_type": "code",
   "execution_count": 12,
   "id": "upset-senior",
   "metadata": {},
   "outputs": [
    {
     "data": {
      "text/plain": [
       "(3.087180869728072, array([ 0.09116366, -0.74505813,  0.66074016]), 15)"
      ]
     },
     "execution_count": 12,
     "metadata": {},
     "output_type": "execute_result"
    }
   ],
   "source": [
    "potencias(B, y0, 10**(-2))"
   ]
  },
  {
   "cell_type": "code",
   "execution_count": 1,
   "id": "ambient-juvenile",
   "metadata": {},
   "outputs": [],
   "source": [
    "import numpy as np\n",
    "from numpy import linalg "
   ]
  },
  {
   "cell_type": "code",
   "execution_count": null,
   "id": "unlike-american",
   "metadata": {},
   "outputs": [],
   "source": []
  }
 ],
 "metadata": {
  "kernelspec": {
   "display_name": "Python 3",
   "language": "python",
   "name": "python3"
  },
  "language_info": {
   "codemirror_mode": {
    "name": "ipython",
    "version": 3
   },
   "file_extension": ".py",
   "mimetype": "text/x-python",
   "name": "python",
   "nbconvert_exporter": "python",
   "pygments_lexer": "ipython3",
   "version": "3.8.8"
  }
 },
 "nbformat": 4,
 "nbformat_minor": 5
}
