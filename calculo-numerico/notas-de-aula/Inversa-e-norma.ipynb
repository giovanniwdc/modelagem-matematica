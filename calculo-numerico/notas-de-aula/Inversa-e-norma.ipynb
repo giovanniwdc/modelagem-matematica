{
 "cells": [
  {
   "cell_type": "code",
   "execution_count": 39,
   "id": "starting-barrier",
   "metadata": {},
   "outputs": [],
   "source": [
    "def sub_prog(L, b):\n",
    "    \n",
    "    n = len(b)\n",
    "    \n",
    "    x = np.zeros(n)\n",
    "    \n",
    "    for i in np.arange(n):\n",
    "        \n",
    "        x[i] = ( b[i] - sum( L[i, :i]*x[:i]) )/ L[i][i]\n",
    "    \n",
    "    return x"
   ]
  },
  {
   "cell_type": "code",
   "execution_count": 40,
   "id": "mechanical-maine",
   "metadata": {},
   "outputs": [],
   "source": [
    "def sup_prog(U, b):\n",
    "    \n",
    "    n = len(b)\n",
    "    \n",
    "    x = np.zeros(n)\n",
    "    \n",
    "    for i in np.arange(n-1, -1, -1):\n",
    "        \n",
    "        x[i] = ( b[i] - sum( U[i, i+1:]*x[i+1:] ) )/ U[i][i]\n",
    "    \n",
    "    return x"
   ]
  },
  {
   "cell_type": "code",
   "execution_count": 41,
   "id": "driving-combine",
   "metadata": {},
   "outputs": [],
   "source": [
    "def LU(A):\n",
    "    \n",
    "    d = A.shape\n",
    "    \n",
    "    U = np.zeros(d)\n",
    "    L = np.identity(d[0])\n",
    "        \n",
    "    for j in range(d[0]):\n",
    "        \n",
    "        for i in range(j+1):\n",
    "            \n",
    "            U[i][j] = A[i][j] - sum(L[i,:i]*U[:i,j])\n",
    "\n",
    "        for i in range(j, d[0]):\n",
    "            \n",
    "            L[i][j] = (A[i][j] - sum(L[i,:j]*U[:j,j]))/(U[j][j])\n",
    "\n",
    "    return L, U"
   ]
  },
  {
   "cell_type": "code",
   "execution_count": 119,
   "id": "found-complexity",
   "metadata": {},
   "outputs": [],
   "source": [
    "def LU_pivot(A, b):\n",
    "    \n",
    "    n = len(b)\n",
    "    \n",
    "    U = np.copy(A)\n",
    "    L = np.identity(n)\n",
    "    P = np.identity(n)\n",
    "    \n",
    "    bl = np.copy(b)\n",
    "    \n",
    "    npivot = 0\n",
    "    \n",
    "    for i in range(n - 1):\n",
    "        \n",
    "        pivot = np.argmax(np.absolute(U[i:n+1, i]))\n",
    "        pivot += i  \n",
    "        \n",
    "        if pivot != i:\n",
    "            \n",
    "            U[[i, pivot]] = U[[pivot, i]]\n",
    "            L[[i, pivot], :i] = L[[pivot, i], :i]\n",
    "            P[[i, pivot]] = P[[pivot, i]]\n",
    "            \n",
    "            bl[[i, pivot]] = bl[[pivot, i]] \n",
    "                \n",
    "            npivot =+ 1\n",
    "            \n",
    "        for j in range(i+1, n):\n",
    "            \n",
    "            m = -U[j][i]/U[i][i]\n",
    "            \n",
    "            U[j] += m*U[i]\n",
    "            \n",
    "            bl[j] += m*bl[i]\n",
    "            \n",
    "            L[j][i] = -m\n",
    "    \n",
    "    return L, U, P, bl, npivot"
   ]
  },
  {
   "cell_type": "code",
   "execution_count": 111,
   "id": "driven-therapist",
   "metadata": {},
   "outputs": [],
   "source": [
    "def eliminacao_gauss(A, b):\n",
    "    \n",
    "    n = len(b)\n",
    "    \n",
    "    U = np.copy(A)\n",
    "    \n",
    "    bl = np.copy(b)\n",
    "        \n",
    "    for i in range(n - 1):\n",
    "        for j in range(i+1, n):\n",
    "            \n",
    "            m = -U[j][i]/U[i][i]\n",
    "            \n",
    "            U[j] += m*U[i]\n",
    "            \n",
    "            bl[j] += m*bl[i]\n",
    "            \n",
    "    return U, bl"
   ]
  },
  {
   "cell_type": "code",
   "execution_count": 135,
   "id": "cross-austria",
   "metadata": {},
   "outputs": [],
   "source": [
    "def eliminacao_gauss_pivot(A, b):\n",
    "    \n",
    "    n = len(b)\n",
    "    \n",
    "    U = np.copy(A)\n",
    "    \n",
    "    bl = np.copy(b)\n",
    "        \n",
    "    for i in range(n - 1):\n",
    "        \n",
    "        pivot = np.argmax(np.absolute(U[i:n, i]))\n",
    "        pivot += i \n",
    "        \n",
    "        U[[i, pivot]] = U[[pivot, i]]\n",
    "            \n",
    "        bl[[i, pivot]] = bl[[pivot, i]] \n",
    "        \n",
    "        for j in range(i+1, n):\n",
    "            \n",
    "            m = -U[j][i]/U[i][i]\n",
    "            \n",
    "            U[j] += m*U[i]\n",
    "            \n",
    "            bl[j] += m*bl[i]\n",
    "            \n",
    "    return U, bl"
   ]
  },
  {
   "cell_type": "code",
   "execution_count": 117,
   "id": "continuous-teaching",
   "metadata": {},
   "outputs": [],
   "source": [
    "def lu_solve_pivot(A, b):\n",
    "    \n",
    "    U, b = eliminacao_gauss_pivot(A, b)\n",
    "    \n",
    "    x = sup_prog(U, b)\n",
    "    \n",
    "    return x"
   ]
  },
  {
   "cell_type": "code",
   "execution_count": 96,
   "id": "involved-taiwan",
   "metadata": {},
   "outputs": [],
   "source": [
    "def lu_solve(A, b):\n",
    "    \n",
    "    L, U = LU(A)\n",
    "    \n",
    "    Ux = sub_prog(L, b)\n",
    "    x = sup_prog(U, Ux)\n",
    "    \n",
    "    return x"
   ]
  },
  {
   "cell_type": "code",
   "execution_count": 128,
   "id": "spiritual-suffering",
   "metadata": {},
   "outputs": [],
   "source": [
    "def inversa(A):\n",
    "    \n",
    "    n = A.shape[0]\n",
    "    \n",
    "    I = np.identity(n)\n",
    "    Ai = np.zeros((n, n))\n",
    "    \n",
    "    for j in np.arange(n):\n",
    "        \n",
    "        Ai[:, j] = lu_solve_pivot(A, I[:, j])\n",
    "    \n",
    "    return Ai\n",
    "        "
   ]
  },
  {
   "cell_type": "code",
   "execution_count": 154,
   "id": "separated-decline",
   "metadata": {},
   "outputs": [],
   "source": [
    "def norm(A, tp = 'frob'):\n",
    "    \n",
    "    nm = 0\n",
    "    \n",
    "    if tp == 'frob':\n",
    "        \n",
    "        nm = np.sqrt((np.absolute(A)**2).sum())\n",
    "    \n",
    "    elif tp == 'column':\n",
    "     \n",
    "        nm = np.absolute(A).sum(axis = 0)\n",
    "   \n",
    "    elif tp == 'row':\n",
    "    \n",
    "        nm = np.absolute(A).sum(axis = 1)\n",
    "        \n",
    "    return nm.max()"
   ]
  },
  {
   "cell_type": "code",
   "execution_count": 145,
   "id": "statutory-preservation",
   "metadata": {},
   "outputs": [],
   "source": [
    "import numpy as np"
   ]
  },
  {
   "cell_type": "code",
   "execution_count": 163,
   "id": "soviet-strand",
   "metadata": {},
   "outputs": [],
   "source": [
    "A = np.array([[0, 4, 6], \n",
    "              [1, -3, -1],\n",
    "              [2, 1, 1]], dtype = float)\n"
   ]
  },
  {
   "cell_type": "code",
   "execution_count": 164,
   "id": "tamil-theory",
   "metadata": {},
   "outputs": [],
   "source": [
    "B = np.array([[1, 0, -3], \n",
    "              [-2, 1, 1],\n",
    "              [4, 0, 2]], dtype = float)\n"
   ]
  },
  {
   "cell_type": "code",
   "execution_count": 165,
   "id": "efficient-commitment",
   "metadata": {},
   "outputs": [],
   "source": [
    "I = inversa(A)"
   ]
  },
  {
   "cell_type": "code",
   "execution_count": 170,
   "id": "right-bread",
   "metadata": {},
   "outputs": [],
   "source": [
    "B = np.array([[3, -5, 7], \n",
    "              [-2, -3, 6],\n",
    "              [1, 7, -1]], dtype = float)"
   ]
  },
  {
   "cell_type": "code",
   "execution_count": 161,
   "id": "maritime-encoding",
   "metadata": {},
   "outputs": [
    {
     "data": {
      "text/plain": [
       "7.0"
      ]
     },
     "execution_count": 161,
     "metadata": {},
     "output_type": "execute_result"
    }
   ],
   "source": [
    "norm(B, tp = 'column')"
   ]
  },
  {
   "cell_type": "code",
   "execution_count": 174,
   "id": "faced-journal",
   "metadata": {},
   "outputs": [
    {
     "data": {
      "text/plain": [
       "13.527749258468683"
      ]
     },
     "execution_count": 174,
     "metadata": {},
     "output_type": "execute_result"
    }
   ],
   "source": [
    "norm(B)"
   ]
  },
  {
   "cell_type": "code",
   "execution_count": null,
   "id": "interior-discrimination",
   "metadata": {},
   "outputs": [],
   "source": []
  }
 ],
 "metadata": {
  "kernelspec": {
   "display_name": "Python 3",
   "language": "python",
   "name": "python3"
  },
  "language_info": {
   "codemirror_mode": {
    "name": "ipython",
    "version": 3
   },
   "file_extension": ".py",
   "mimetype": "text/x-python",
   "name": "python",
   "nbconvert_exporter": "python",
   "pygments_lexer": "ipython3",
   "version": "3.8.5"
  }
 },
 "nbformat": 4,
 "nbformat_minor": 5
}
