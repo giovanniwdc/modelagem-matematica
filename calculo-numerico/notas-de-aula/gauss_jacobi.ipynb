{
 "cells": [
  {
   "cell_type": "code",
   "execution_count": 38,
   "id": "brave-manufacturer",
   "metadata": {},
   "outputs": [],
   "source": [
    "def gauss_jacobi( A, b, x0, tol, kmax = 10000):\n",
    "    \n",
    "    n = len(b)\n",
    "    \n",
    "    D = np.diag(np.diag(A))\n",
    "    C = np.identity(n) - op.inversa(D).dot(A)\n",
    "    g = op.inversa(D).dot(b)\n",
    "    \n",
    "    print(D)\n",
    "    print(C)\n",
    "    print(g)\n",
    "    \n",
    "    k = 0\n",
    "    \n",
    "    x = x0\n",
    "    \n",
    "    while la.norm(b - A.dot(x0)) > tol and  k < kmax:\n",
    "        \n",
    "        k += 1\n",
    "        \n",
    "        x = C.dot(x) + g\n",
    "    \n",
    "    return x\n",
    "    "
   ]
  },
  {
   "cell_type": "code",
   "execution_count": 39,
   "id": "fleet-cabin",
   "metadata": {},
   "outputs": [],
   "source": [
    "A = np.array([\n",
    "    [10, 1, -1, 0],\n",
    "    [1, 10, 0, 1],\n",
    "    [2, -1, 10, 0],\n",
    "    [0, 1, 1, -10]\n",
    "],dtype = float)\n",
    "\n",
    "b = np.array([13, 12, 11, 10], dtype = float)"
   ]
  },
  {
   "cell_type": "code",
   "execution_count": 40,
   "id": "foreign-pendant",
   "metadata": {},
   "outputs": [
    {
     "data": {
      "text/plain": [
       "array([[ 10.,   1.,  -1.,   0.],\n",
       "       [  1.,  10.,   0.,   1.],\n",
       "       [  2.,  -1.,  10.,   0.],\n",
       "       [  0.,   1.,   1., -10.]])"
      ]
     },
     "execution_count": 40,
     "metadata": {},
     "output_type": "execute_result"
    }
   ],
   "source": [
    "A"
   ]
  },
  {
   "cell_type": "code",
   "execution_count": 41,
   "id": "labeled-andrews",
   "metadata": {},
   "outputs": [],
   "source": [
    "x0 = np.array([0, 0, 0, 0])"
   ]
  },
  {
   "cell_type": "code",
   "execution_count": 42,
   "id": "loved-silly",
   "metadata": {},
   "outputs": [
    {
     "name": "stdout",
     "output_type": "stream",
     "text": [
      "[[ 10.   0.   0.   0.]\n",
      " [  0.  10.   0.   0.]\n",
      " [  0.   0.  10.   0.]\n",
      " [  0.   0.   0. -10.]]\n",
      "[[ 0.  -0.1  0.1  0. ]\n",
      " [-0.1  0.   0.  -0.1]\n",
      " [-0.2  0.1  0.   0. ]\n",
      " [ 0.   0.1  0.1  0. ]]\n",
      "[ 1.3  1.2  1.1 -1. ]\n"
     ]
    }
   ],
   "source": [
    "r = gauss_jacobi(A, b, x0,10**(-3), kmax = 100 )"
   ]
  },
  {
   "cell_type": "code",
   "execution_count": 43,
   "id": "discrete-portrait",
   "metadata": {},
   "outputs": [
    {
     "data": {
      "text/plain": [
       "array([ 1.28080986,  1.1508216 ,  0.95892019, -0.78902582])"
      ]
     },
     "execution_count": 43,
     "metadata": {},
     "output_type": "execute_result"
    }
   ],
   "source": [
    "r"
   ]
  },
  {
   "cell_type": "code",
   "execution_count": 44,
   "id": "knowing-affect",
   "metadata": {},
   "outputs": [],
   "source": [
    "def cl(A):\n",
    "    \n",
    "    n = A.shape[0]\n",
    "    \n",
    "    for i in np.arange(n):\n",
    "        \n",
    "        a = ( np.absolute(A[i,:]).sum() - np.absolute(A[i, i]) ) / np.absolute(A[i, i])\n",
    "        \n",
    "        if a >= 1:\n",
    "            return False\n",
    "        \n",
    "    \n",
    "    return True"
   ]
  },
  {
   "cell_type": "code",
   "execution_count": 45,
   "id": "educational-space",
   "metadata": {},
   "outputs": [],
   "source": [
    "def cc(A):\n",
    "    \n",
    "    n = A.shape[0]\n",
    "    \n",
    "    for i in np.arange(n):\n",
    "        \n",
    "        a = ( np.absolute(A[:,i]).sum() - np.absolute(A[i, i]) ) / np.absolute(A[i, i])\n",
    "        \n",
    "        if a >= 1:\n",
    "            return False\n",
    "        \n",
    "    \n",
    "    return True"
   ]
  },
  {
   "cell_type": "code",
   "execution_count": 46,
   "id": "blank-violin",
   "metadata": {},
   "outputs": [
    {
     "data": {
      "text/plain": [
       "True"
      ]
     },
     "execution_count": 46,
     "metadata": {},
     "output_type": "execute_result"
    }
   ],
   "source": [
    "cc(A)"
   ]
  },
  {
   "cell_type": "code",
   "execution_count": 47,
   "id": "above-things",
   "metadata": {},
   "outputs": [],
   "source": [
    "import numpy as np"
   ]
  },
  {
   "cell_type": "code",
   "execution_count": 4,
   "id": "median-helmet",
   "metadata": {},
   "outputs": [],
   "source": [
    "import calc_num.operations as op"
   ]
  },
  {
   "cell_type": "code",
   "execution_count": 23,
   "id": "apart-terminology",
   "metadata": {},
   "outputs": [],
   "source": [
    "from numpy import linalg as la"
   ]
  },
  {
   "cell_type": "code",
   "execution_count": null,
   "id": "vocal-client",
   "metadata": {},
   "outputs": [],
   "source": []
  }
 ],
 "metadata": {
  "kernelspec": {
   "display_name": "Python 3",
   "language": "python",
   "name": "python3"
  },
  "language_info": {
   "codemirror_mode": {
    "name": "ipython",
    "version": 3
   },
   "file_extension": ".py",
   "mimetype": "text/x-python",
   "name": "python",
   "nbconvert_exporter": "python",
   "pygments_lexer": "ipython3",
   "version": "3.8.5"
  }
 },
 "nbformat": 4,
 "nbformat_minor": 5
}
