{
 "cells": [
  {
   "cell_type": "code",
   "execution_count": 29,
   "id": "backed-forge",
   "metadata": {},
   "outputs": [],
   "source": [
    "def midpoint(f, a, b, N):\n",
    "    \n",
    "    h = (b - a)/N\n",
    "    \n",
    "    xi = np.linspace(a+h/2, b - h/2, N)\n",
    "    yi = f(xi)\n",
    "    \n",
    "    return h*yi.sum()"
   ]
  },
  {
   "cell_type": "code",
   "execution_count": 30,
   "id": "fuzzy-aviation",
   "metadata": {},
   "outputs": [],
   "source": [
    "def simpson13(xi, yi):\n",
    "    \n",
    "    n = len(x)\n",
    "    \n",
    "    inp = np.arange(1, n-1, 2)\n",
    "    par = np.arange(2, n-1, 2)\n",
    "    \n",
    "    print( n)\n",
    "    \n",
    "    h = xi[1] - xi[0]\n",
    "    \n",
    "    I = 4*yi[inp].sum() + 2*yi[par].sum()\n",
    "    \n",
    "    I = h*(yi[0] + I + yi[n-1])/3\n",
    "    \n",
    "    return I"
   ]
  },
  {
   "cell_type": "code",
   "execution_count": 31,
   "id": "dense-employer",
   "metadata": {},
   "outputs": [],
   "source": [
    "def simpson13f(f, a, b, N):\n",
    "    \n",
    "    h = (b - a)/N\n",
    "    \n",
    "    xi = np.linspace(a, b, N + 1)\n",
    "    yi = f(xi)\n",
    "    \n",
    "    yi[1:N-1]  *= 2\n",
    "    \n",
    "    I = h*yi.sum()/6\n",
    "    \n",
    "    xi = np.linspace(a+h/2, b-h/2, N)\n",
    "    yi = f(xi)\n",
    "    \n",
    "    I += 2*h*yi.sum()/3\n",
    "    \n",
    "    return I"
   ]
  },
  {
   "cell_type": "code",
   "execution_count": 32,
   "id": "ancient-signal",
   "metadata": {},
   "outputs": [],
   "source": [
    "f = lambda x: 1/(1.5*np.sqrt(2*np.pi))*np.exp(-(x-4)**2/(2*1.5**2))"
   ]
  },
  {
   "cell_type": "code",
   "execution_count": 33,
   "id": "alpha-syndrome",
   "metadata": {},
   "outputs": [],
   "source": [
    "x = np.arange(3, 5, 0.07)\n",
    "y = f(x)"
   ]
  },
  {
   "cell_type": "code",
   "execution_count": 34,
   "id": "fatal-hungarian",
   "metadata": {},
   "outputs": [
    {
     "data": {
      "text/plain": [
       "0.49504998609126555"
      ]
     },
     "execution_count": 34,
     "metadata": {},
     "output_type": "execute_result"
    }
   ],
   "source": [
    "midpoint(f, 3, 5, 30)"
   ]
  },
  {
   "cell_type": "code",
   "execution_count": 35,
   "id": "dimensional-barbados",
   "metadata": {},
   "outputs": [
    {
     "name": "stdout",
     "output_type": "stream",
     "text": [
      "29\n"
     ]
    },
    {
     "data": {
      "text/plain": [
       "0.4864211913309593"
      ]
     },
     "execution_count": 35,
     "metadata": {},
     "output_type": "execute_result"
    }
   ],
   "source": [
    "simpson13(x, y)"
   ]
  },
  {
   "cell_type": "code",
   "execution_count": 36,
   "id": "federal-woman",
   "metadata": {},
   "outputs": [
    {
     "data": {
      "text/plain": [
       "0.49257988994386537"
      ]
     },
     "execution_count": 36,
     "metadata": {},
     "output_type": "execute_result"
    }
   ],
   "source": [
    "simpson13f(f, 3, 5, 30)"
   ]
  },
  {
   "cell_type": "markdown",
   "id": "ddcfc547-a55d-4c32-b581-6f811d344780",
   "metadata": {},
   "source": [
    "# **Questão 1**"
   ]
  },
  {
   "cell_type": "code",
   "execution_count": 37,
   "id": "23df12a0-31f6-4fa0-9daf-2168b2d74d75",
   "metadata": {},
   "outputs": [],
   "source": [
    "f = lambda x: np.exp(-x**2)"
   ]
  },
  {
   "cell_type": "code",
   "execution_count": 40,
   "id": "c7c003df-bea0-4c89-a115-47018836f4d4",
   "metadata": {},
   "outputs": [
    {
     "data": {
      "text/plain": [
       "0.7468180002620814"
      ]
     },
     "execution_count": 40,
     "metadata": {},
     "output_type": "execute_result"
    }
   ],
   "source": [
    "simpson13f(f, 0, 1, 10000)"
   ]
  },
  {
   "cell_type": "code",
   "execution_count": 27,
   "id": "ec41c562-b8d8-414d-8f69-3d3c6d70503b",
   "metadata": {},
   "outputs": [
    {
     "data": {
      "text/plain": [
       "<function __main__.simpson13f(f, a, b, N)>"
      ]
     },
     "execution_count": 27,
     "metadata": {},
     "output_type": "execute_result"
    }
   ],
   "source": [
    "simpson13f"
   ]
  },
  {
   "cell_type": "markdown",
   "id": "moving-disclaimer",
   "metadata": {},
   "source": [
    "import numpy as np \n",
    "from numpy import linalg as al"
   ]
  },
  {
   "cell_type": "code",
   "execution_count": 16,
   "id": "equivalent-blowing",
   "metadata": {},
   "outputs": [],
   "source": [
    "import matplotlib.pyplot as plt"
   ]
  },
  {
   "cell_type": "code",
   "execution_count": 28,
   "id": "900359f3-d8e9-4eec-862d-18386a0b89df",
   "metadata": {},
   "outputs": [],
   "source": [
    "import numpy as np"
   ]
  },
  {
   "cell_type": "code",
   "execution_count": null,
   "id": "788ef0cd-2ce6-442c-a6fd-5c904ab1843d",
   "metadata": {},
   "outputs": [],
   "source": []
  }
 ],
 "metadata": {
  "kernelspec": {
   "display_name": "Python 3",
   "language": "python",
   "name": "python3"
  },
  "language_info": {
   "codemirror_mode": {
    "name": "ipython",
    "version": 3
   },
   "file_extension": ".py",
   "mimetype": "text/x-python",
   "name": "python",
   "nbconvert_exporter": "python",
   "pygments_lexer": "ipython3",
   "version": "3.8.8"
  }
 },
 "nbformat": 4,
 "nbformat_minor": 5
}
