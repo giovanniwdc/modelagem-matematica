{
 "cells": [
  {
   "cell_type": "markdown",
   "id": "double-working",
   "metadata": {},
   "source": [
    "# Semana 5 Cálculo Numérico "
   ]
  },
  {
   "cell_type": "code",
   "execution_count": 81,
   "id": "global-diagram",
   "metadata": {},
   "outputs": [],
   "source": [
    "def lsti(T, b):\n",
    "    \n",
    "    n = len(b)\n",
    "    \n",
    "    x = np.zeros(n)\n",
    "    \n",
    "    for i in range(n):\n",
    "      \n",
    "        x[i] = ( b[i] - sum(T[i,:i]*x[:i]) )/T[i][i]\n",
    "    \n",
    "    return x"
   ]
  },
  {
   "cell_type": "code",
   "execution_count": 143,
   "id": "collective-affiliation",
   "metadata": {},
   "outputs": [],
   "source": [
    "def lsts(T, b):\n",
    "    \n",
    "    n = len(b)\n",
    "    \n",
    "    x = np.zeros(n)\n",
    "    \n",
    "    for i in range(n-1,-1,-1):\n",
    "        \n",
    "        x[i] = ( b[i] - sum(T[i,i:n]*x[i:n]) )/T[i][i]\n",
    "    \n",
    "    return x"
   ]
  },
  {
   "cell_type": "code",
   "execution_count": 345,
   "id": "gentle-graduation",
   "metadata": {},
   "outputs": [],
   "source": [
    "def LU(A):\n",
    "    \n",
    "    d = A.shape\n",
    "    \n",
    "    U = np.zeros(d)\n",
    "    L = np.identity(d[0])\n",
    "        \n",
    "    for j in range(d[0]):\n",
    "        \n",
    "        for i in range(j+1):\n",
    "            \n",
    "            U[i][j] = A[i][j] - sum(L[i,:i]*U[:i,j])\n",
    "\n",
    "        for i in range(j, d[0]):\n",
    "            \n",
    "            L[i][j] = (A[i][j] - sum(L[i,:j]*U[:j,j]))/(U[j][j])\n",
    "\n",
    "    return L, U"
   ]
  },
  {
   "cell_type": "code",
   "execution_count": 359,
   "id": "alive-aruba",
   "metadata": {},
   "outputs": [],
   "source": [
    "T = np.array([[9, 0, 1, 2], [1, 8, 1, 1], [-2, 1, 5, 0], [3, 1, 0, 6]])\n",
    "b = np.array([1, 3])"
   ]
  },
  {
   "cell_type": "code",
   "execution_count": 360,
   "id": "comparable-petroleum",
   "metadata": {},
   "outputs": [
    {
     "data": {
      "text/plain": [
       "array([[ 9.00000000e+00,  0.00000000e+00,  1.00000000e+00,\n",
       "         2.00000000e+00],\n",
       "       [ 1.00000000e+00,  8.00000000e+00,  1.00000000e+00,\n",
       "         1.00000000e+00],\n",
       "       [-2.00000000e+00,  1.00000000e+00,  5.00000000e+00,\n",
       "         0.00000000e+00],\n",
       "       [ 3.00000000e+00,  1.00000000e+00,  2.19899246e-17,\n",
       "         6.00000000e+00]])"
      ]
     },
     "execution_count": 360,
     "metadata": {},
     "output_type": "execute_result"
    }
   ],
   "source": [
    "a = LU(T)\n",
    "a[0].dot(a[1])"
   ]
  },
  {
   "cell_type": "code",
   "execution_count": 361,
   "id": "american-capability",
   "metadata": {},
   "outputs": [
    {
     "data": {
      "text/plain": [
       "(array([[ 1.        ,  0.        ,  0.        ,  0.        ],\n",
       "        [ 0.11111111,  1.        ,  0.        ,  0.        ],\n",
       "        [-0.22222222,  0.125     ,  1.        ,  0.        ],\n",
       "        [ 0.33333333,  0.125     , -0.08695652,  1.        ]]),\n",
       " array([[9.        , 0.        , 1.        , 2.        ],\n",
       "        [0.        , 8.        , 0.88888889, 0.77777778],\n",
       "        [0.        , 0.        , 5.11111111, 0.34722222],\n",
       "        [0.        , 0.        , 0.        , 5.26630435]]))"
      ]
     },
     "execution_count": 361,
     "metadata": {},
     "output_type": "execute_result"
    }
   ],
   "source": [
    "a"
   ]
  },
  {
   "cell_type": "code",
   "execution_count": 362,
   "id": "charged-visiting",
   "metadata": {},
   "outputs": [
    {
     "data": {
      "text/plain": [
       "0.06793478218868147"
      ]
     },
     "execution_count": 362,
     "metadata": {},
     "output_type": "execute_result"
    }
   ],
   "source": [
    "0.34722222/5.11111111"
   ]
  },
  {
   "cell_type": "code",
   "execution_count": 352,
   "id": "optional-romance",
   "metadata": {},
   "outputs": [],
   "source": [
    "x = linalg.lu(T)"
   ]
  },
  {
   "cell_type": "code",
   "execution_count": 354,
   "id": "composite-flush",
   "metadata": {},
   "outputs": [
    {
     "data": {
      "text/plain": [
       "array([[-2.00000000e+00,  0.00000000e+00,  1.00000000e+00],\n",
       "       [ 1.00000000e+00,  3.00000000e+00,  1.00000000e+00],\n",
       "       [ 1.00000000e+00,  2.00000000e+00, -5.55111512e-17]])"
      ]
     },
     "execution_count": 354,
     "metadata": {},
     "output_type": "execute_result"
    }
   ],
   "source": [
    "x[1].dot(x[2])"
   ]
  },
  {
   "cell_type": "code",
   "execution_count": 334,
   "id": "abroad-disclaimer",
   "metadata": {},
   "outputs": [],
   "source": [
    "from scipy import linalg"
   ]
  },
  {
   "cell_type": "code",
   "execution_count": 335,
   "id": "lonely-button",
   "metadata": {},
   "outputs": [],
   "source": [
    "import numpy as np"
   ]
  },
  {
   "cell_type": "code",
   "execution_count": null,
   "id": "printable-repair",
   "metadata": {},
   "outputs": [],
   "source": []
  }
 ],
 "metadata": {
  "kernelspec": {
   "display_name": "Python 3",
   "language": "python",
   "name": "python3"
  },
  "language_info": {
   "codemirror_mode": {
    "name": "ipython",
    "version": 3
   },
   "file_extension": ".py",
   "mimetype": "text/x-python",
   "name": "python",
   "nbconvert_exporter": "python",
   "pygments_lexer": "ipython3",
   "version": "3.8.5"
  }
 },
 "nbformat": 4,
 "nbformat_minor": 5
}
