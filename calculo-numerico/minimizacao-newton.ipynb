{
 "cells": [
  {
   "cell_type": "code",
   "execution_count": 46,
   "id": "posted-prospect",
   "metadata": {},
   "outputs": [],
   "source": [
    "import numpy as np\n",
    "from numpy import linalg as al"
   ]
  },
  {
   "cell_type": "code",
   "execution_count": 64,
   "id": "dominant-modem",
   "metadata": {},
   "outputs": [],
   "source": [
    "def newton_sis(f, jac, x0, tol, kmax = 1000):\n",
    "    \n",
    "    x = np.copy(x0)\n",
    "    \n",
    "    for k in np.arange(kmax):\n",
    "        \n",
    "        v = al.solve(jac(x), f(x))\n",
    "        \n",
    "        x = x - v\n",
    "        \n",
    "        if al.norm(v) < tol :\n",
    "            \n",
    "            return x\n",
    "        \n",
    "    return None"
   ]
  },
  {
   "cell_type": "markdown",
   "id": "070ed46a-d5d1-4b1a-bbb0-e31167003ea3",
   "metadata": {},
   "source": [
    "### **Problema-1**"
   ]
  },
  {
   "cell_type": "code",
   "execution_count": 65,
   "id": "7a77c43f-4761-4a82-b8b2-77d1b879cccc",
   "metadata": {},
   "outputs": [],
   "source": [
    "f = lambda X : np.array([\n",
    "    (X[0]-1)**2 + X[1]**2 - 4,\n",
    "    X[0]**2 + (X[1] - 1)**2 - 4\n",
    "], dtype = float)"
   ]
  },
  {
   "cell_type": "code",
   "execution_count": 66,
   "id": "ac148df5-d5c5-4ace-bb4d-95754ba38a01",
   "metadata": {},
   "outputs": [],
   "source": [
    "jac = lambda X: np.array([\n",
    "    [2*(X[0]-1), 2*X[1]],\n",
    "    [2*X[0], 2*(X[1]-1)]\n",
    "], dtype = float)"
   ]
  },
  {
   "cell_type": "code",
   "execution_count": 67,
   "id": "5816bdae-7f61-44bf-8335-22eb40883ed7",
   "metadata": {},
   "outputs": [],
   "source": [
    "x0 = (2, 1)"
   ]
  },
  {
   "cell_type": "code",
   "execution_count": 68,
   "id": "4f7c93f6-a989-4f63-991e-f8f9e3309a47",
   "metadata": {},
   "outputs": [],
   "source": [
    "x, y = newton_sis(f, jac, x0, 10**(-6))"
   ]
  },
  {
   "cell_type": "code",
   "execution_count": 69,
   "id": "0db2c4f5-4423-4b1d-bf1d-69814d409020",
   "metadata": {},
   "outputs": [
    {
     "name": "stdout",
     "output_type": "stream",
     "text": [
      "X = (1.8228756555322951, 1.8228756555322954) with R = 10^(-6)\n"
     ]
    }
   ],
   "source": [
    "print(f'X = ({x}, {y}) with R = 10^(-6)')"
   ]
  },
  {
   "cell_type": "markdown",
   "id": "d3231c8a-07ff-4da1-a283-3b3fdb09afbc",
   "metadata": {},
   "source": [
    "### **Problema-2**"
   ]
  },
  {
   "cell_type": "code",
   "execution_count": 70,
   "id": "daa6a6ce-5b24-4370-b3ef-3dddd7dcdb48",
   "metadata": {},
   "outputs": [],
   "source": [
    "f = lambda X : np.array([\n",
    "    X[0]**3 + 2*X[2] - 1,\n",
    "    np.sin(X[0]) + 3*X[1],\n",
    "    X[0]*X[1] + X[2]**2\n",
    "], dtype = float)"
   ]
  },
  {
   "cell_type": "code",
   "execution_count": 71,
   "id": "bb9cab1d-d517-44fa-b35e-3d9536dceb18",
   "metadata": {},
   "outputs": [],
   "source": [
    "jac = lambda X: np.array([\n",
    "    [3*X[0]**2, 0, 2],\n",
    "    [np.cos(X[0]), 3, 0],\n",
    "    [X[1], 0, 2*X[2]]\n",
    "], dtype = float)"
   ]
  },
  {
   "cell_type": "code",
   "execution_count": 72,
   "id": "fcb573ec-59de-44ac-a2a4-4b1a2ac6d898",
   "metadata": {},
   "outputs": [],
   "source": [
    "x0 = (0.6, -0.2, 0.3)"
   ]
  },
  {
   "cell_type": "code",
   "execution_count": 73,
   "id": "ae43ecd0-d378-4dfe-8c2e-027ff25ed664",
   "metadata": {},
   "outputs": [],
   "source": [
    "x, y, z = newton_sis(f, jac, x0, 10**(-6))"
   ]
  },
  {
   "cell_type": "code",
   "execution_count": 74,
   "id": "74ca4525-ebeb-4d37-8732-967c053948e3",
   "metadata": {},
   "outputs": [
    {
     "name": "stdout",
     "output_type": "stream",
     "text": [
      "X = (0.6505018208700242, -0.2018619403278326, 0.3623692254322118) with R = 10^(-6)\n"
     ]
    }
   ],
   "source": [
    "print(f'X = ({x}, {y}, {z}) with R = 10^(-6)')"
   ]
  },
  {
   "cell_type": "code",
   "execution_count": null,
   "id": "3d1e384c-e025-4efe-8b77-5cd15ff1d65d",
   "metadata": {},
   "outputs": [],
   "source": []
  }
 ],
 "metadata": {
  "kernelspec": {
   "display_name": "Python 3",
   "language": "python",
   "name": "python3"
  },
  "language_info": {
   "codemirror_mode": {
    "name": "ipython",
    "version": 3
   },
   "file_extension": ".py",
   "mimetype": "text/x-python",
   "name": "python",
   "nbconvert_exporter": "python",
   "pygments_lexer": "ipython3",
   "version": "3.8.8"
  }
 },
 "nbformat": 4,
 "nbformat_minor": 5
}
