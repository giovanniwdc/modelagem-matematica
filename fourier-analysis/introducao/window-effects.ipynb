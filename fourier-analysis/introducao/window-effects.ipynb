{
 "cells": [
  {
   "cell_type": "markdown",
   "id": "ecological-method",
   "metadata": {},
   "source": [
    "# **Effects of time window**"
   ]
  },
  {
   "cell_type": "code",
   "execution_count": 5,
   "id": "united-checkout",
   "metadata": {},
   "outputs": [],
   "source": [
    "L = 0.01\n",
    "\n",
    "dx = 0.001\n",
    "f = 1\n",
    "w = 2*np.pi*f\n",
    "\n",
    "x = L*np.arange(-1, 1+dx, dx)\n",
    "y = np.cos(x)"
   ]
  },
  {
   "cell_type": "code",
   "execution_count": 6,
   "id": "healthy-lighter",
   "metadata": {},
   "outputs": [],
   "source": [
    "y_fft = np.fft.fft(y, len(x))"
   ]
  },
  {
   "cell_type": "code",
   "execution_count": 13,
   "id": "psychological-strategy",
   "metadata": {},
   "outputs": [],
   "source": [
    "freq = np.fft.fftfreq(x.shape[-1], dx)"
   ]
  },
  {
   "cell_type": "code",
   "execution_count": 14,
   "id": "satisfactory-assignment",
   "metadata": {},
   "outputs": [
    {
     "data": {
      "text/plain": [
       "2001"
      ]
     },
     "execution_count": 14,
     "metadata": {},
     "output_type": "execute_result"
    }
   ],
   "source": [
    "x.size"
   ]
  },
  {
   "cell_type": "code",
   "execution_count": 15,
   "id": "activated-duration",
   "metadata": {},
   "outputs": [
    {
     "data": {
      "text/plain": [
       "[]"
      ]
     },
     "execution_count": 15,
     "metadata": {},
     "output_type": "execute_result"
    },
    {
     "data": {
      "image/png": "[encoded data removed]",
      "text/plain": [
       "<Figure size 576x216 with 1 Axes>"
      ]
     },
     "metadata": {
      "needs_background": "light"
     },
     "output_type": "display_data"
    }
   ],
   "source": [
    "plt.figure(figsize = (8,3))\n",
    "\n",
    "plt.plot(freq, np.abs(y_fft))\n",
    "plt.plot()"
   ]
  },
  {
   "cell_type": "markdown",
   "id": "reduced-riding",
   "metadata": {},
   "source": [
    "## **Imports**"
   ]
  },
  {
   "cell_type": "code",
   "execution_count": 1,
   "id": "olive-notice",
   "metadata": {},
   "outputs": [],
   "source": [
    "import numpy as np"
   ]
  },
  {
   "cell_type": "code",
   "execution_count": 2,
   "id": "forward-combat",
   "metadata": {},
   "outputs": [],
   "source": [
    "import matplotlib.pyplot as plt"
   ]
  },
  {
   "cell_type": "code",
   "execution_count": 3,
   "id": "central-prototype",
   "metadata": {},
   "outputs": [],
   "source": [
    "%matplotlib inline"
   ]
  },
  {
   "cell_type": "code",
   "execution_count": 4,
   "id": "defensive-cartoon",
   "metadata": {},
   "outputs": [],
   "source": [
    "plt.rc('axes', titlesize=18)     # fontsize of the axes title\n",
    "plt.rc('axes', labelsize=14)    # fontsize of the x and y labels\n",
    "plt.rc('xtick', labelsize=13)    # fontsize of the tick labels\n",
    "plt.rc('ytick', labelsize=13)    # fontsize of the tick labels\n",
    "plt.rc('legend', fontsize=13)    # legend fontsize\n",
    "plt.rc('font', size=13)          # controls default text sizes\n",
    "plt.rc('figure', figsize = (8,8)) # Set the figure size "
   ]
  },
  {
   "cell_type": "code",
   "execution_count": null,
   "id": "mysterious-disney",
   "metadata": {},
   "outputs": [],
   "source": []
  }
 ],
 "metadata": {
  "kernelspec": {
   "display_name": "Python 3 (ipykernel)",
   "language": "python",
   "name": "python3"
  },
  "language_info": {
   "codemirror_mode": {
    "name": "ipython",
    "version": 3
   },
   "file_extension": ".py",
   "mimetype": "text/x-python",
   "name": "python",
   "nbconvert_exporter": "python",
   "pygments_lexer": "ipython3",
   "version": "3.9.12"
  }
 },
 "nbformat": 4,
 "nbformat_minor": 5
}
